{
 "cells": [
  {
   "cell_type": "markdown",
   "metadata": {},
   "source": [
    "### Spark ML - A Titanic framework\n",
    "\n",
    "In this notebook we look at running an ML model in Spark, or more specifically pyspark. The model we will be creating in pyspark is a logistic regression on the Titanic dataset. We are going to calculate the probability of surviving based on few features. I have done no feature engineering so far, because that is not the aim of this notebook. Furthermore, we are going to run the model on our CPU as well as our GPU and time the runs. Here is a depiction of the sinking:\n",
    "\n",
    "\n",
    "<img src=\"https://freeenterpriseforum.files.wordpress.com/2014/06/titanic-sinking-credit-redbubble.png\">\n"
   ]
  },
  {
   "cell_type": "code",
   "execution_count": 1,
   "metadata": {},
   "outputs": [
    {
     "name": "stdout",
     "output_type": "stream",
     "text": [
      "Device mapping:\n",
      "/job:localhost/replica:0/task:0/device:XLA_CPU:0 -> device: XLA_CPU device\n",
      "/job:localhost/replica:0/task:0/device:GPU:0 -> device: 0, name: GeForce RTX 2060, pci bus id: 0000:01:00.0, compute capability: 7.5\n",
      "/job:localhost/replica:0/task:0/device:XLA_GPU:0 -> device: XLA_GPU device\n",
      "\n",
      "<tensorflow.python.client.session.Session object at 0x000001AA1A80BD60>\n"
     ]
    }
   ],
   "source": [
    "import pyspark\n",
    "from pyspark import SparkContext\n",
    "import tensorflow as tf\n",
    "sc =SparkContext()\n",
    "sess = tf.compat.v1.Session(config=tf.compat.v1.ConfigProto(log_device_placement=True))\n",
    "print(sess)"
   ]
  },
  {
   "cell_type": "code",
   "execution_count": 2,
   "metadata": {},
   "outputs": [
    {
     "data": {
      "text/html": [
       "\n",
       "        <div>\n",
       "            <p><b>SparkContext</b></p>\n",
       "\n",
       "            <p><a href=\"http://DESKTOP-F5P1847:4040\">Spark UI</a></p>\n",
       "\n",
       "            <dl>\n",
       "              <dt>Version</dt>\n",
       "                <dd><code>v3.0.1</code></dd>\n",
       "              <dt>Master</dt>\n",
       "                <dd><code>local[*]</code></dd>\n",
       "              <dt>AppName</dt>\n",
       "                <dd><code>pyspark-shell</code></dd>\n",
       "            </dl>\n",
       "        </div>\n",
       "        "
      ],
      "text/plain": [
       "<SparkContext master=local[*] appName=pyspark-shell>"
      ]
     },
     "execution_count": 2,
     "metadata": {},
     "output_type": "execute_result"
    }
   ],
   "source": [
    "sc"
   ]
  },
  {
   "cell_type": "code",
   "execution_count": 3,
   "metadata": {},
   "outputs": [],
   "source": [
    "from pyspark.sql import Row\n",
    "from pyspark.sql import SQLContext\n",
    "\n",
    "#url = \"https://github.com/ashishpatel26/Titanic-Machine-Learning-from-Disaster/raw/master/input/train.csv\"\n",
    "url = \"https://raw.githubusercontent.com/datasciencedojo/datasets/master/titanic.csv\"\n",
    "from pyspark import SparkFiles\n",
    "sc.addFile(url)\n",
    "sqlContext = SQLContext(sc)"
   ]
  },
  {
   "cell_type": "code",
   "execution_count": 4,
   "metadata": {
    "scrolled": true
   },
   "outputs": [
    {
     "name": "stdout",
     "output_type": "stream",
     "text": [
      "+-----------+--------+------+--------------------+------+----+-----+-----+----------------+-------+--------+\n",
      "|PassengerId|Survived|Pclass|                Name|   Sex| Age|SibSp|Parch|          Ticket|   Fare|Embarked|\n",
      "+-----------+--------+------+--------------------+------+----+-----+-----+----------------+-------+--------+\n",
      "|          1|       0|     3|Braund, Mr. Owen ...|  male|22.0|    1|    0|       A/5 21171|   7.25|       S|\n",
      "|          2|       1|     1|Cumings, Mrs. Joh...|female|38.0|    1|    0|        PC 17599|71.2833|       C|\n",
      "|          3|       1|     3|Heikkinen, Miss. ...|female|26.0|    0|    0|STON/O2. 3101282|  7.925|       S|\n",
      "|          4|       1|     1|Futrelle, Mrs. Ja...|female|35.0|    1|    0|          113803|   53.1|       S|\n",
      "|          5|       0|     3|Allen, Mr. Willia...|  male|35.0|    0|    0|          373450|   8.05|       S|\n",
      "|          6|       0|     3|    Moran, Mr. James|  male|null|    0|    0|          330877| 8.4583|       Q|\n",
      "|          7|       0|     1|McCarthy, Mr. Tim...|  male|54.0|    0|    0|           17463|51.8625|       S|\n",
      "|          8|       0|     3|Palsson, Master. ...|  male| 2.0|    3|    1|          349909| 21.075|       S|\n",
      "|          9|       1|     3|Johnson, Mrs. Osc...|female|27.0|    0|    2|          347742|11.1333|       S|\n",
      "|         10|       1|     2|Nasser, Mrs. Nich...|female|14.0|    1|    0|          237736|30.0708|       C|\n",
      "|         11|       1|     3|Sandstrom, Miss. ...|female| 4.0|    1|    1|         PP 9549|   16.7|       S|\n",
      "|         12|       1|     1|Bonnell, Miss. El...|female|58.0|    0|    0|          113783|  26.55|       S|\n",
      "|         13|       0|     3|Saundercock, Mr. ...|  male|20.0|    0|    0|       A/5. 2151|   8.05|       S|\n",
      "|         14|       0|     3|Andersson, Mr. An...|  male|39.0|    1|    5|          347082| 31.275|       S|\n",
      "|         15|       0|     3|Vestrom, Miss. Hu...|female|14.0|    0|    0|          350406| 7.8542|       S|\n",
      "|         16|       1|     2|Hewlett, Mrs. (Ma...|female|55.0|    0|    0|          248706|   16.0|       S|\n",
      "|         17|       0|     3|Rice, Master. Eugene|  male| 2.0|    4|    1|          382652| 29.125|       Q|\n",
      "|         18|       1|     2|Williams, Mr. Cha...|  male|null|    0|    0|          244373|   13.0|       S|\n",
      "|         19|       0|     3|Vander Planke, Mr...|female|31.0|    1|    0|          345763|   18.0|       S|\n",
      "|         20|       1|     3|Masselmani, Mrs. ...|female|null|    0|    0|            2649|  7.225|       C|\n",
      "+-----------+--------+------+--------------------+------+----+-----+-----+----------------+-------+--------+\n",
      "only showing top 20 rows\n",
      "\n"
     ]
    }
   ],
   "source": [
    "import pyspark.sql.functions as f\n",
    "from functools import reduce\n",
    "df = sqlContext.read.csv(SparkFiles.get(\"titanic.csv\"), header=True, inferSchema= True)\n",
    "#In my example are columns need to be checked\n",
    "df = df.drop(\"Cabin\")\n",
    "df.show()"
   ]
  },
  {
   "cell_type": "code",
   "execution_count": 5,
   "metadata": {},
   "outputs": [],
   "source": [
    "from pyspark.sql.functions import col, isnan, when, trim\n",
    "def to_null(c):\n",
    "    return when(~(col(c).isNull() | isnan(col(c)) | (trim(col(c)) == \"\")), col(c))\n",
    "\n",
    "\n",
    "clean = df.select([to_null(c).alias(c) for c in df.columns]).na.drop(how='any')"
   ]
  },
  {
   "cell_type": "code",
   "execution_count": 6,
   "metadata": {},
   "outputs": [
    {
     "name": "stdout",
     "output_type": "stream",
     "text": [
      "+-----------+--------+------+--------------------+------+----+-----+-----+----------------+-------+--------+\n",
      "|PassengerId|Survived|Pclass|                Name|   Sex| Age|SibSp|Parch|          Ticket|   Fare|Embarked|\n",
      "+-----------+--------+------+--------------------+------+----+-----+-----+----------------+-------+--------+\n",
      "|          1|       0|     3|Braund, Mr. Owen ...|  male|22.0|    1|    0|       A/5 21171|   7.25|       S|\n",
      "|          2|       1|     1|Cumings, Mrs. Joh...|female|38.0|    1|    0|        PC 17599|71.2833|       C|\n",
      "|          3|       1|     3|Heikkinen, Miss. ...|female|26.0|    0|    0|STON/O2. 3101282|  7.925|       S|\n",
      "|          4|       1|     1|Futrelle, Mrs. Ja...|female|35.0|    1|    0|          113803|   53.1|       S|\n",
      "|          5|       0|     3|Allen, Mr. Willia...|  male|35.0|    0|    0|          373450|   8.05|       S|\n",
      "|          7|       0|     1|McCarthy, Mr. Tim...|  male|54.0|    0|    0|           17463|51.8625|       S|\n",
      "|          8|       0|     3|Palsson, Master. ...|  male| 2.0|    3|    1|          349909| 21.075|       S|\n",
      "|          9|       1|     3|Johnson, Mrs. Osc...|female|27.0|    0|    2|          347742|11.1333|       S|\n",
      "|         10|       1|     2|Nasser, Mrs. Nich...|female|14.0|    1|    0|          237736|30.0708|       C|\n",
      "|         11|       1|     3|Sandstrom, Miss. ...|female| 4.0|    1|    1|         PP 9549|   16.7|       S|\n",
      "|         12|       1|     1|Bonnell, Miss. El...|female|58.0|    0|    0|          113783|  26.55|       S|\n",
      "|         13|       0|     3|Saundercock, Mr. ...|  male|20.0|    0|    0|       A/5. 2151|   8.05|       S|\n",
      "|         14|       0|     3|Andersson, Mr. An...|  male|39.0|    1|    5|          347082| 31.275|       S|\n",
      "|         15|       0|     3|Vestrom, Miss. Hu...|female|14.0|    0|    0|          350406| 7.8542|       S|\n",
      "|         16|       1|     2|Hewlett, Mrs. (Ma...|female|55.0|    0|    0|          248706|   16.0|       S|\n",
      "|         17|       0|     3|Rice, Master. Eugene|  male| 2.0|    4|    1|          382652| 29.125|       Q|\n",
      "|         19|       0|     3|Vander Planke, Mr...|female|31.0|    1|    0|          345763|   18.0|       S|\n",
      "|         21|       0|     2|Fynney, Mr. Joseph J|  male|35.0|    0|    0|          239865|   26.0|       S|\n",
      "|         22|       1|     2|Beesley, Mr. Lawr...|  male|34.0|    0|    0|          248698|   13.0|       S|\n",
      "|         23|       1|     3|\"McGowan, Miss. A...|female|15.0|    0|    0|          330923| 8.0292|       Q|\n",
      "+-----------+--------+------+--------------------+------+----+-----+-----+----------------+-------+--------+\n",
      "only showing top 20 rows\n",
      "\n"
     ]
    }
   ],
   "source": [
    "clean.show()"
   ]
  },
  {
   "cell_type": "code",
   "execution_count": 7,
   "metadata": {},
   "outputs": [],
   "source": [
    "### Example encoder\n",
    "from pyspark.sql.types import *\n",
    "from pyspark.ml.feature import StringIndexer, OneHotEncoder, VectorAssembler"
   ]
  },
  {
   "cell_type": "markdown",
   "metadata": {},
   "source": [
    "### Code for converting categorical to binary \"one hot\" values"
   ]
  },
  {
   "cell_type": "code",
   "execution_count": 8,
   "metadata": {},
   "outputs": [],
   "source": [
    "from pyspark.ml import Pipeline\n",
    "from pyspark.ml.feature import OneHotEncoder\n",
    "CATE_FEATURES = ['Sex']\n",
    "stages = [] # stages in our Pipeline\n",
    "for categoricalCol in CATE_FEATURES:\n",
    "    stringIndexer = StringIndexer(inputCol=categoricalCol, outputCol=categoricalCol + \"Index\")\n",
    "    encoder = OneHotEncoder(inputCols=[stringIndexer.getOutputCol()],\n",
    "                                     outputCols=[categoricalCol + \"classVec\"])\n",
    "    stages += [stringIndexer, encoder]"
   ]
  },
  {
   "cell_type": "markdown",
   "metadata": {},
   "source": [
    "### Convert continuous vars to float"
   ]
  },
  {
   "cell_type": "code",
   "execution_count": 9,
   "metadata": {},
   "outputs": [],
   "source": [
    "# Write a custom function to convert the data type of DataFrame columns\n",
    "def convertColumn(df, names, newType):\n",
    "    for name in names: \n",
    "        df = df.withColumn(name, df[name].cast(newType))\n",
    "    return df \n",
    "# List of continuous features\n",
    "CONTI_FEATURES  = ['Pclass','SibSp','Fare','Parch']\n",
    "\n",
    "# Convert the type\n",
    "clean = convertColumn(clean, CONTI_FEATURES, FloatType())\n",
    "\n",
    "assemblerInputs = [c + \"classVec\" for c in CATE_FEATURES] + CONTI_FEATURES"
   ]
  },
  {
   "cell_type": "markdown",
   "metadata": {},
   "source": [
    "### Assemble features and response variable"
   ]
  },
  {
   "cell_type": "code",
   "execution_count": 10,
   "metadata": {},
   "outputs": [],
   "source": [
    "assembler = VectorAssembler(inputCols=assemblerInputs, outputCol=\"features\")\n",
    "stages += [assembler]"
   ]
  },
  {
   "cell_type": "markdown",
   "metadata": {},
   "source": [
    "### Create a pipeline"
   ]
  },
  {
   "cell_type": "code",
   "execution_count": 11,
   "metadata": {},
   "outputs": [],
   "source": [
    "# Create a Pipeline.\n",
    "pipeline = Pipeline(stages=stages)\n",
    "\n",
    "pipelineModel = pipeline.fit(clean)\n",
    "model = pipelineModel.transform(clean)"
   ]
  },
  {
   "cell_type": "code",
   "execution_count": 12,
   "metadata": {},
   "outputs": [
    {
     "data": {
      "text/plain": [
       "[Row(PassengerId=1, Survived=0, Pclass=3.0, Name='Braund, Mr. Owen Harris', Sex='male', Age=22.0, SibSp=1.0, Parch=0.0, Ticket='A/5 21171', Fare=7.25, Embarked='S', SexIndex=0.0, SexclassVec=SparseVector(1, {0: 1.0}), features=DenseVector([1.0, 3.0, 1.0, 7.25, 0.0]))]"
      ]
     },
     "execution_count": 12,
     "metadata": {},
     "output_type": "execute_result"
    }
   ],
   "source": [
    "model.take(1)"
   ]
  },
  {
   "cell_type": "code",
   "execution_count": 13,
   "metadata": {},
   "outputs": [],
   "source": [
    "from pyspark.ml.linalg import DenseVector\n",
    "input_data = model.rdd.map(lambda x: (x[\"Survived\"], DenseVector(x[\"features\"])))"
   ]
  },
  {
   "cell_type": "code",
   "execution_count": 14,
   "metadata": {},
   "outputs": [],
   "source": [
    "df_train = sqlContext.createDataFrame(input_data, [\"Survived\", \"features\"])"
   ]
  },
  {
   "cell_type": "code",
   "execution_count": 15,
   "metadata": {},
   "outputs": [
    {
     "name": "stdout",
     "output_type": "stream",
     "text": [
      "+--------+--------------------+\n",
      "|Survived|            features|\n",
      "+--------+--------------------+\n",
      "|       0|[1.0,3.0,1.0,7.25...|\n",
      "|       1|[0.0,1.0,1.0,71.2...|\n",
      "+--------+--------------------+\n",
      "only showing top 2 rows\n",
      "\n"
     ]
    }
   ],
   "source": [
    "df_train.show(2)"
   ]
  },
  {
   "cell_type": "markdown",
   "metadata": {},
   "source": [
    "### Split data into test and training sets"
   ]
  },
  {
   "cell_type": "code",
   "execution_count": 16,
   "metadata": {},
   "outputs": [],
   "source": [
    "# Split the data into train and test sets\n",
    "train_data, test_data = df_train.randomSplit([.8,.2],seed=1234)"
   ]
  },
  {
   "cell_type": "markdown",
   "metadata": {},
   "source": [
    "### Import your algorithm of choice"
   ]
  },
  {
   "cell_type": "code",
   "execution_count": 17,
   "metadata": {},
   "outputs": [],
   "source": [
    "# Import algorithm candidates\n",
    "from pyspark.ml.classification import LogisticRegression"
   ]
  },
  {
   "cell_type": "markdown",
   "metadata": {},
   "source": [
    "### Train your model"
   ]
  },
  {
   "cell_type": "code",
   "execution_count": 18,
   "metadata": {},
   "outputs": [
    {
     "name": "stdout",
     "output_type": "stream",
     "text": [
      "Wall time: 2.32 s\n"
     ]
    }
   ],
   "source": [
    "%%time\n",
    "# Initialize `lr`\n",
    "lr = LogisticRegression(labelCol=\"Survived\",\n",
    "                        featuresCol=\"features\",\n",
    "                        maxIter=10,\n",
    "                        regParam=0.3)\n",
    "\n",
    "# Fit the data to the model\n",
    "# Change to CPU if u dont have GPU, or just remove the 'with' line\n",
    "\n",
    "with tf.device('/CPU:0'):\n",
    "    linearModel = lr.fit(train_data)"
   ]
  },
  {
   "cell_type": "code",
   "execution_count": 19,
   "metadata": {},
   "outputs": [
    {
     "name": "stdout",
     "output_type": "stream",
     "text": [
      "Wall time: 1.41 s\n"
     ]
    }
   ],
   "source": [
    "%%time\n",
    "# Initialize `lr`\n",
    "lr = LogisticRegression(labelCol=\"Survived\",\n",
    "                        featuresCol=\"features\",\n",
    "                        maxIter=10,\n",
    "                        regParam=0.3)\n",
    "\n",
    "# Fit the data to the model\n",
    "# Change to CPU if u dont have GPU, or just remove the 'with' line\n",
    "\n",
    "with tf.device('/GPU:0'):\n",
    "    linearModel = lr.fit(train_data)"
   ]
  },
  {
   "cell_type": "code",
   "execution_count": 21,
   "metadata": {},
   "outputs": [
    {
     "name": "stdout",
     "output_type": "stream",
     "text": [
      "Coefficients: [-1.000891332812774,-0.3494195766223486,-0.01672504415074927,0.00320262400666465,0.04101746025437031]\n",
      "Intercept: 0.8963722532336394\n"
     ]
    }
   ],
   "source": [
    "# Print the coefficients and intercept for logistic regression\n",
    "print(\"Coefficients: \" + str(linearModel.coefficients))\n",
    "print(\"Intercept: \" + str(linearModel.intercept))"
   ]
  },
  {
   "cell_type": "markdown",
   "metadata": {},
   "source": [
    "### Evaluate fit of the model\n",
    "OK so here we look at the ROC and the area under it, typical tests. the further away from the 45 line your model is, better. The area under the curve is 0.83, which isnt too bad on so few of the variables."
   ]
  },
  {
   "cell_type": "code",
   "execution_count": 22,
   "metadata": {},
   "outputs": [
    {
     "data": {
      "image/png": "[encoded data removed]",
      "text/plain": [
       "<Figure size 360x360 with 1 Axes>"
      ]
     },
     "metadata": {
      "needs_background": "light"
     },
     "output_type": "display_data"
    },
    {
     "name": "stdout",
     "output_type": "stream",
     "text": [
      "areaUnderROC: 0.8603290140244227\n"
     ]
    },
    {
     "data": {
      "text/plain": [
       "LogisticRegression_46cf1e9f318c"
      ]
     },
     "execution_count": 22,
     "metadata": {},
     "output_type": "execute_result"
    }
   ],
   "source": [
    "# Extract the summary from the returned LogisticRegressionModel instance trained\n",
    "# in the earlier example\n",
    "trainingSummary = linearModel.summary\n",
    "\n",
    "\n",
    "import matplotlib.pyplot as plt\n",
    "plt.figure(figsize=(5,5))\n",
    "plt.plot([0, 1], [0, 1], 'r--')\n",
    "plt.plot(trainingSummary.roc.select('FPR').collect(),\n",
    "         trainingSummary.roc.select('TPR').collect())\n",
    "plt.xlabel('FPR')\n",
    "plt.ylabel('TPR')\n",
    "plt.show()\n",
    "\n",
    "# Obtain the receiver-operating characteristic as a dataframe and areaUnderROC.\n",
    "print(\"areaUnderROC: \" + str(trainingSummary.areaUnderROC))\n",
    "\n",
    "# Set the model threshold to maximize F-Measure\n",
    "fMeasure = trainingSummary.fMeasureByThreshold\n",
    "maxFMeasure = fMeasure.groupBy().max('F-Measure').select('max(F-Measure)').head()\n",
    "bestThreshold = fMeasure.where(fMeasure['F-Measure'] == maxFMeasure['max(F-Measure)']) \\\n",
    "    .select('threshold').head()['threshold']\n",
    "lr.setThreshold(bestThreshold)"
   ]
  },
  {
   "cell_type": "markdown",
   "metadata": {},
   "source": [
    "### Lets see if the above generalizes to the test data set:"
   ]
  },
  {
   "cell_type": "code",
   "execution_count": 24,
   "metadata": {},
   "outputs": [],
   "source": [
    "# Make predictions on test data using the transform() method.\n",
    "predictions = linearModel.transform(test_data)"
   ]
  },
  {
   "cell_type": "markdown",
   "metadata": {},
   "source": [
    "### Create helper function for plotting confusion matrix out, why? Because you can."
   ]
  },
  {
   "cell_type": "code",
   "execution_count": 25,
   "metadata": {},
   "outputs": [],
   "source": [
    "import matplotlib.pyplot as plt\n",
    "%matplotlib inline\n",
    "import numpy as np\n",
    "import itertools\n",
    "\n",
    "def plot_confusion_matrix(cm, classes,\n",
    "                          normalize=False,\n",
    "                          title='Confusion matrix',\n",
    "                          cmap=plt.cm.Blues):\n",
    "    \"\"\"\n",
    "    This function prints and plots the confusion matrix.\n",
    "    Normalization can be applied by setting `normalize=True`.\n",
    "    \"\"\"\n",
    "    if normalize:\n",
    "        cm = cm.astype('float') / cm.sum(axis=1)[:, np.newaxis]\n",
    "        print(\"Normalized confusion matrix\")\n",
    "    else:\n",
    "        print('Confusion matrix, without normalization')\n",
    "\n",
    "    print(cm)\n",
    "\n",
    "    plt.imshow(cm, interpolation='nearest', cmap=cmap)\n",
    "    plt.title(title)\n",
    "    plt.colorbar()\n",
    "    tick_marks = np.arange(len(classes))\n",
    "    plt.xticks(tick_marks, classes, rotation=45)\n",
    "    plt.yticks(tick_marks, classes)\n",
    "\n",
    "    fmt = '.2f' if normalize else 'd'\n",
    "    thresh = cm.max() / 2.\n",
    "    for i, j in itertools.product(range(cm.shape[0]), range(cm.shape[1])):\n",
    "        plt.text(j, i, format(cm[i, j], fmt),\n",
    "                 horizontalalignment=\"center\",\n",
    "                 color=\"white\" if cm[i, j] > thresh else \"black\")\n",
    "\n",
    "    plt.tight_layout()\n",
    "    plt.ylabel('True label')\n",
    "    plt.xlabel('Predicted label')"
   ]
  },
  {
   "cell_type": "code",
   "execution_count": 26,
   "metadata": {},
   "outputs": [],
   "source": [
    "class_temp = predictions.select(\"Survived\").groupBy(\"Survived\")\\\n",
    "                        .count().sort('count', ascending=False).toPandas()\n",
    "class_temp = class_temp[\"Survived\"].values.tolist()"
   ]
  },
  {
   "cell_type": "code",
   "execution_count": 27,
   "metadata": {},
   "outputs": [
    {
     "data": {
      "text/plain": [
       "array([[90,  5],\n",
       "       [33, 27]], dtype=int64)"
      ]
     },
     "execution_count": 27,
     "metadata": {},
     "output_type": "execute_result"
    }
   ],
   "source": [
    "from sklearn.metrics import confusion_matrix\n",
    "\n",
    "y_true = predictions.select(\"Survived\")\n",
    "y_true = y_true.toPandas()\n",
    "\n",
    "y_pred = predictions.select(\"prediction\")\n",
    "y_pred = y_pred.toPandas()\n",
    "y_true\n",
    "#y_pred\n",
    "cnf_matrix = confusion_matrix(y_true, y_pred)\n",
    "cnf_matrix"
   ]
  },
  {
   "cell_type": "markdown",
   "metadata": {},
   "source": [
    "### Plot confusion matrices for normalized as well as non-normalized values:"
   ]
  },
  {
   "cell_type": "code",
   "execution_count": 28,
   "metadata": {},
   "outputs": [
    {
     "name": "stdout",
     "output_type": "stream",
     "text": [
      "Confusion matrix, without normalization\n",
      "[[90  5]\n",
      " [33 27]]\n"
     ]
    },
    {
     "data": {
      "image/png": "[encoded data removed]",
      "text/plain": [
       "<Figure size 432x288 with 2 Axes>"
      ]
     },
     "metadata": {
      "needs_background": "light"
     },
     "output_type": "display_data"
    }
   ],
   "source": [
    "# Plot non-normalized confusion matrix\n",
    "plt.figure()\n",
    "plot_confusion_matrix(cnf_matrix, classes=['no','yes'],\n",
    "                      title='Confusion matrix, without normalization')\n",
    "plt.show()"
   ]
  },
  {
   "cell_type": "code",
   "execution_count": 29,
   "metadata": {},
   "outputs": [
    {
     "name": "stdout",
     "output_type": "stream",
     "text": [
      "Normalized confusion matrix\n",
      "[[0.94736842 0.05263158]\n",
      " [0.55       0.45      ]]\n"
     ]
    },
    {
     "data": {
      "image/png": "[encoded data removed]",
      "text/plain": [
       "<Figure size 432x288 with 2 Axes>"
      ]
     },
     "metadata": {
      "needs_background": "light"
     },
     "output_type": "display_data"
    }
   ],
   "source": [
    "# Plot normalized confusion matrix\n",
    "plt.figure()\n",
    "plot_confusion_matrix(cnf_matrix, classes=['no','yes'], normalize=True,\n",
    "                      title='Normalized confusion matrix')\n",
    "\n",
    "plt.show()"
   ]
  },
  {
   "cell_type": "code",
   "execution_count": 30,
   "metadata": {},
   "outputs": [
    {
     "name": "stdout",
     "output_type": "stream",
     "text": [
      "+--------+----------+--------------------+\n",
      "|Survived|prediction|         probability|\n",
      "+--------+----------+--------------------+\n",
      "|       0|       1.0|[0.25018605695114...|\n",
      "|       0|       1.0|[0.44049158841979...|\n",
      "|       0|       0.0|[0.53084658909043...|\n",
      "|       0|       0.0|[0.51933075103572...|\n",
      "|       0|       0.0|[0.52951699943291...|\n",
      "|       0|       0.0|[0.51613880407137...|\n",
      "|       0|       0.0|[0.51613880407137...|\n",
      "|       0|       0.0|[0.53423279502270...|\n",
      "|       0|       0.0|[0.52787227940317...|\n",
      "|       0|       0.0|[0.51256003013097...|\n",
      "|       0|       0.0|[0.53187903049060...|\n",
      "|       0|       0.0|[0.52337017039778...|\n",
      "|       0|       0.0|[0.50766776881966...|\n",
      "|       0|       0.0|[0.50766776881966...|\n",
      "|       0|       0.0|[0.50081842578882...|\n",
      "|       0|       0.0|[0.61157527564226...|\n",
      "|       0|       0.0|[0.59119532597755...|\n",
      "|       0|       0.0|[0.59119532597755...|\n",
      "|       0|       0.0|[0.59028879224852...|\n",
      "|       0|       0.0|[0.58672119026642...|\n",
      "|       0|       0.0|[0.58540039954248...|\n",
      "|       0|       0.0|[0.58191451442335...|\n",
      "|       0|       0.0|[0.58064783183412...|\n",
      "|       0|       0.0|[0.57519895759848...|\n",
      "|       0|       0.0|[0.57146787676909...|\n",
      "|       0|       0.0|[0.54990598513886...|\n",
      "|       0|       0.0|[0.50228160827594...|\n",
      "|       0|       1.0|[0.48036972752714...|\n",
      "|       0|       1.0|[0.42422542569471...|\n",
      "|       0|       0.0|[0.57459025354879...|\n",
      "|       0|       0.0|[0.56398941091330...|\n",
      "|       0|       0.0|[0.51862356014043...|\n",
      "|       0|       1.0|[0.36918930989479...|\n",
      "|       0|       0.0|[0.68346263169573...|\n",
      "|       0|       0.0|[0.68346263169573...|\n",
      "|       0|       0.0|[0.68346263169573...|\n",
      "|       0|       0.0|[0.68346263169573...|\n",
      "|       0|       0.0|[0.68172794196313...|\n",
      "|       0|       0.0|[0.68172794196313...|\n",
      "|       0|       0.0|[0.68172794196313...|\n",
      "|       0|       0.0|[0.68172794196313...|\n",
      "|       0|       0.0|[0.68172794196313...|\n",
      "|       0|       0.0|[0.68172794196313...|\n",
      "|       0|       0.0|[0.68172794196313...|\n",
      "|       0|       0.0|[0.68138039630047...|\n",
      "|       0|       0.0|[0.67262683727831...|\n",
      "|       0|       0.0|[0.67262683727831...|\n",
      "|       0|       0.0|[0.67262683727831...|\n",
      "|       0|       0.0|[0.67769964560773...|\n",
      "|       0|       0.0|[0.67629900373537...|\n",
      "|       0|       0.0|[0.66707759674839...|\n",
      "|       0|       0.0|[0.67559749408888...|\n",
      "|       0|       0.0|[0.67509135591749...|\n",
      "|       0|       0.0|[0.67343837315739...|\n",
      "|       0|       0.0|[0.64598007359180...|\n",
      "|       0|       0.0|[0.64598007359180...|\n",
      "|       0|       0.0|[0.76001792937197...|\n",
      "|       0|       0.0|[0.75766628749988...|\n",
      "|       0|       0.0|[0.75587319701492...|\n",
      "|       0|       0.0|[0.75575746531196...|\n",
      "|       0|       0.0|[0.75575746531196...|\n",
      "|       0|       0.0|[0.75552092125067...|\n",
      "|       0|       0.0|[0.75546176109970...|\n",
      "|       0|       0.0|[0.75546176109970...|\n",
      "|       0|       0.0|[0.75544696947873...|\n",
      "|       0|       0.0|[0.75543466236863...|\n",
      "|       0|       0.0|[0.75543217725268...|\n",
      "|       0|       0.0|[0.75540010593129...|\n",
      "|       0|       0.0|[0.75540010593129...|\n",
      "|       0|       0.0|[0.75537548810276...|\n",
      "|       0|       0.0|[0.75537548810276...|\n",
      "|       0|       0.0|[0.75537548810276...|\n",
      "|       0|       0.0|[0.75528422228037...|\n",
      "|       0|       0.0|[0.75528422228037...|\n",
      "|       0|       0.0|[0.75528422228037...|\n",
      "|       0|       0.0|[0.75492147684010...|\n",
      "|       0|       0.0|[0.75451388136927...|\n",
      "|       0|       0.0|[0.75048779595470...|\n",
      "|       0|       0.0|[0.75895115007757...|\n",
      "|       0|       0.0|[0.75125801200523...|\n",
      "|       0|       0.0|[0.74627529530628...|\n",
      "|       0|       0.0|[0.75393344554214...|\n",
      "|       0|       0.0|[0.75360652020589...|\n",
      "|       0|       0.0|[0.75360652020589...|\n",
      "|       0|       0.0|[0.74340697230482...|\n",
      "|       0|       0.0|[0.74338406226643...|\n",
      "|       0|       0.0|[0.76148660359406...|\n",
      "|       0|       0.0|[0.76148660359406...|\n",
      "|       0|       0.0|[0.76105735266543...|\n",
      "|       0|       0.0|[0.75787132522605...|\n",
      "|       0|       0.0|[0.74751152169781...|\n",
      "|       0|       0.0|[0.74107365590754...|\n",
      "|       0|       0.0|[0.74107365590754...|\n",
      "|       0|       0.0|[0.73187668647508...|\n",
      "|       0|       0.0|[0.73187668647508...|\n",
      "|       1|       1.0|[0.34751186371066...|\n",
      "|       1|       1.0|[0.34751186371066...|\n",
      "|       1|       1.0|[0.34706118386115...|\n",
      "|       1|       1.0|[0.32868171285148...|\n",
      "|       1|       1.0|[0.31775364032595...|\n",
      "|       1|       1.0|[0.31568883391041...|\n",
      "|       1|       1.0|[0.30491954358902...|\n",
      "|       1|       1.0|[0.25360958240281...|\n",
      "|       1|       1.0|[0.32310114731295...|\n",
      "|       1|       1.0|[0.31412886785059...|\n",
      "|       1|       1.0|[0.30204684458949...|\n",
      "|       1|       1.0|[0.30608985125375...|\n",
      "|       1|       1.0|[0.29049011684942...|\n",
      "|       1|       1.0|[0.29049011684942...|\n",
      "|       1|       1.0|[0.26854876788138...|\n",
      "|       1|       1.0|[0.24988023422018...|\n",
      "|       1|       1.0|[0.44246580526923...|\n",
      "|       1|       1.0|[0.44128105290961...|\n",
      "|       1|       1.0|[0.44076786726802...|\n",
      "|       1|       1.0|[0.44049158841979...|\n",
      "|       1|       1.0|[0.44049158841979...|\n",
      "|       1|       1.0|[0.43986678228877...|\n",
      "|       1|       1.0|[0.41027316488963...|\n",
      "|       1|       1.0|[0.43593630605565...|\n",
      "|       1|       1.0|[0.43436193361174...|\n",
      "|       1|       0.0|[0.53188334586354...|\n",
      "|       1|       0.0|[0.53158430930591...|\n",
      "|       1|       0.0|[0.51787157658166...|\n",
      "|       1|       1.0|[0.49178998783805...|\n",
      "|       1|       0.0|[0.52296839543782...|\n",
      "|       1|       0.0|[0.53310364895759...|\n",
      "|       1|       0.0|[0.52819153485519...|\n",
      "|       1|       0.0|[0.52064875133784...|\n",
      "|       1|       0.0|[0.59139849004237...|\n",
      "|       1|       0.0|[0.59132109725312...|\n",
      "|       1|       0.0|[0.59119532597755...|\n",
      "|       1|       0.0|[0.58852228637564...|\n",
      "|       1|       0.0|[0.58813445167482...|\n",
      "|       1|       1.0|[0.22655327332568...|\n",
      "|       1|       0.0|[0.57545114654266...|\n",
      "|       1|       0.0|[0.55599634229457...|\n",
      "|       1|       0.0|[0.54462376899182...|\n",
      "|       1|       0.0|[0.50107847308842...|\n",
      "|       1|       0.0|[0.68172794196313...|\n",
      "|       1|       0.0|[0.65213728984501...|\n",
      "|       1|       0.0|[0.67629900373537...|\n",
      "|       1|       0.0|[0.76001792937197...|\n",
      "|       1|       0.0|[0.75576976142956...|\n",
      "|       1|       0.0|[0.75543466236863...|\n",
      "|       1|       0.0|[0.75540010593129...|\n",
      "|       1|       0.0|[0.75535820732903...|\n",
      "|       1|       0.0|[0.75535820732903...|\n",
      "|       1|       0.0|[0.75528422228037...|\n",
      "|       1|       0.0|[0.74734170655036...|\n",
      "|       1|       0.0|[0.74887260266869...|\n",
      "|       1|       0.0|[0.73204227361264...|\n",
      "|       1|       0.0|[0.72548669513394...|\n",
      "|       1|       0.0|[0.75648421747794...|\n",
      "|       1|       0.0|[0.74612869748571...|\n",
      "|       1|       0.0|[0.73829406165954...|\n",
      "+--------+----------+--------------------+\n",
      "\n"
     ]
    }
   ],
   "source": [
    "selected = predictions.select(\"Survived\", \"prediction\", \"probability\")\n",
    "selected.show(500)"
   ]
  },
  {
   "cell_type": "code",
   "execution_count": 31,
   "metadata": {},
   "outputs": [
    {
     "name": "stdout",
     "output_type": "stream",
     "text": [
      "Package                  Version\n",
      "------------------------ -------------------\n",
      "absl-py                  0.10.0\n",
      "argon2-cffi              20.1.0\n",
      "astunparse               1.6.3\n",
      "async-generator          1.10\n",
      "attrs                    20.2.0\n",
      "backcall                 0.2.0\n",
      "bleach                   3.2.1\n",
      "cachetools               4.1.1\n",
      "certifi                  2020.6.20\n",
      "cffi                     1.14.3\n",
      "chardet                  3.0.4\n",
      "colorama                 0.4.3\n",
      "cycler                   0.10.0\n",
      "decorator                4.4.2\n",
      "defusedxml               0.6.0\n",
      "entrypoints              0.3\n",
      "gast                     0.3.3\n",
      "google-auth              1.22.1\n",
      "google-auth-oauthlib     0.4.1\n",
      "google-pasta             0.2.0\n",
      "grpcio                   1.32.0\n",
      "h5py                     2.10.0\n",
      "idna                     2.10\n",
      "importlib-metadata       2.0.0\n",
      "ipykernel                5.3.4\n",
      "ipython                  7.18.1\n",
      "ipython-genutils         0.2.0\n",
      "ipywidgets               7.5.1\n",
      "jedi                     0.17.2\n",
      "Jinja2                   2.11.2\n",
      "joblib                   0.17.0\n",
      "jsonschema               3.2.0\n",
      "jupyter                  1.0.0\n",
      "jupyter-client           6.1.7\n",
      "jupyter-console          6.2.0\n",
      "jupyter-core             4.6.3\n",
      "jupyterlab-pygments      0.1.2\n",
      "Keras-Preprocessing      1.1.2\n",
      "kiwisolver               1.2.0\n",
      "Markdown                 3.3\n",
      "MarkupSafe               1.1.1\n",
      "matplotlib               3.3.2\n",
      "mistune                  0.8.4\n",
      "nbclient                 0.5.0\n",
      "nbconvert                6.0.7\n",
      "nbformat                 5.0.7\n",
      "nest-asyncio             1.4.1\n",
      "notebook                 6.1.4\n",
      "numpy                    1.18.5\n",
      "oauthlib                 3.1.0\n",
      "opt-einsum               3.3.0\n",
      "packaging                20.4\n",
      "pandas                   1.1.3\n",
      "pandocfilters            1.4.2\n",
      "parso                    0.7.0\n",
      "pickleshare              0.7.5\n",
      "Pillow                   7.2.0\n",
      "pip                      20.2.3\n",
      "prometheus-client        0.8.0\n",
      "prompt-toolkit           3.0.7\n",
      "protobuf                 3.13.0\n",
      "py4j                     0.10.9\n",
      "pyasn1                   0.4.8\n",
      "pyasn1-modules           0.2.8\n",
      "pycparser                2.20\n",
      "Pygments                 2.7.1\n",
      "pyparsing                2.4.7\n",
      "pyrsistent               0.17.3\n",
      "pyspark                  3.0.1\n",
      "python-dateutil          2.8.1\n",
      "pytz                     2020.1\n",
      "pywin32                  227\n",
      "pywinpty                 0.5.7\n",
      "pyzmq                    19.0.2\n",
      "qtconsole                4.7.7\n",
      "QtPy                     1.9.0\n",
      "requests                 2.24.0\n",
      "requests-oauthlib        1.3.0\n",
      "rsa                      4.6\n",
      "scikit-learn             0.23.2\n",
      "scipy                    1.4.1\n",
      "Send2Trash               1.5.0\n",
      "setuptools               50.3.0.post20201006\n",
      "sip                      4.19.13\n",
      "six                      1.15.0\n",
      "sklearn                  0.0\n",
      "tensorboard              2.3.0\n",
      "tensorboard-plugin-wit   1.7.0\n",
      "tensorflow-gpu           2.3.0\n",
      "tensorflow-gpu-estimator 2.3.0\n",
      "termcolor                1.1.0\n",
      "terminado                0.9.1\n",
      "testpath                 0.4.4\n",
      "threadpoolctl            2.1.0\n",
      "tornado                  6.0.4\n",
      "traitlets                5.0.4\n",
      "urllib3                  1.25.10\n",
      "wcwidth                  0.2.5\n",
      "webencodings             0.5.1\n",
      "Werkzeug                 1.0.1\n",
      "wheel                    0.35.1\n",
      "widgetsnbextension       3.5.1\n",
      "wincertstore             0.2\n",
      "wrapt                    1.12.1\n",
      "zipp                     3.3.0\n",
      "Note: you may need to restart the kernel to use updated packages.\n"
     ]
    }
   ],
   "source": [
    "pip list"
   ]
  },
  {
   "cell_type": "markdown",
   "metadata": {},
   "source": [
    "### Other ML algorithms\n",
    "You can try any of  pysparks ml algorithms. Here is a quick stab at a neural network:"
   ]
  },
  {
   "cell_type": "code",
   "execution_count": 60,
   "metadata": {},
   "outputs": [
    {
     "data": {
      "text/plain": [
       "MultilayerPerceptronClassificationModel: uid=MultilayerPerceptronClassifier_b60d990c1a2c, numLayers=4, numClasses=2, numFeatures=5"
      ]
     },
     "metadata": {},
     "output_type": "display_data"
    },
    {
     "name": "stdout",
     "output_type": "stream",
     "text": [
      "Test set accuracy = 0.7290322580645161\n",
      "Confusion matrix, without normalization\n",
      "[[84 11]\n",
      " [31 29]]\n"
     ]
    },
    {
     "data": {
      "image/png": "[encoded data removed]",
      "text/plain": [
       "<Figure size 432x288 with 2 Axes>"
      ]
     },
     "metadata": {
      "needs_background": "light"
     },
     "output_type": "display_data"
    }
   ],
   "source": [
    "from pyspark.ml.classification import MultilayerPerceptronClassifier\n",
    "from pyspark.ml.evaluation import MulticlassClassificationEvaluator\n",
    "\n",
    "# Load training data\n",
    "\n",
    "\n",
    "# specify layers for the neural network:\n",
    "# input layer of size 5 (features), two intermediate of size x1 and x2\n",
    "# and output of size 2 (classes)\n",
    "layers = [5,10,3,2]\n",
    "\n",
    "# create the trainer and set its parameters\n",
    "trainer = MultilayerPerceptronClassifier(labelCol=\"Survived\",featuresCol=\"features\",maxIter=100, layers=layers, blockSize=128, seed=1234)\n",
    "\n",
    "# train the model\n",
    "model = trainer.fit(train_data)\n",
    "display(model)\n",
    "# compute accuracy on the test set\n",
    "predictions = model.transform(test_data)\n",
    "predictionAndLabels = predictions.select(\"prediction\",\"Survived\")\n",
    "evaluator = MulticlassClassificationEvaluator(labelCol=\"Survived\",metricName=\"accuracy\")\n",
    "print(\"Test set accuracy = \" + str(evaluator.evaluate(predictionAndLabels)))\n",
    "\n",
    "y_true = predictions.select(\"Survived\")\n",
    "y_true = y_true.toPandas()\n",
    "\n",
    "y_pred = predictions.select(\"prediction\")\n",
    "y_pred = y_pred.toPandas()\n",
    "y_true\n",
    "#y_pred\n",
    "cnf_matrix = confusion_matrix(y_true, y_pred)\n",
    "cnf_matrix\n",
    "# Plot non-normalized confusion matrix\n",
    "plt.figure()\n",
    "plot_confusion_matrix(cnf_matrix, classes=['no','yes'],\n",
    "                      title='Confusion matrix, without normalization')\n",
    "plt.show()"
   ]
  }
 ],
 "metadata": {
  "kernelspec": {
   "display_name": "Python 3",
   "language": "python",
   "name": "python3"
  },
  "language_info": {
   "codemirror_mode": {
    "name": "ipython",
    "version": 3
   },
   "file_extension": ".py",
   "mimetype": "text/x-python",
   "name": "python",
   "nbconvert_exporter": "python",
   "pygments_lexer": "ipython3",
   "version": "3.8.5"
  }
 },
 "nbformat": 4,
 "nbformat_minor": 4
}
